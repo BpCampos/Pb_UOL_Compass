{
 "cells": [
  {
   "cell_type": "markdown",
   "metadata": {},
   "source": [
    "# Etapa 1"
   ]
  },
  {
   "cell_type": "code",
   "execution_count": 1,
   "metadata": {},
   "outputs": [],
   "source": [
    "movie_numbers = []\n",
    "actor = []\n",
    "\n",
    "with open('actors.csv') as actors:\n",
    "    for content in actors:\n",
    "        if len(content.split(',')) > 7:\n",
    "            movie_numbers.append(content.split(',')[3])\n",
    "            actor.append(content.split(',')[0] + content.split(',')[1])\n",
    "        elif content.split(',')[2] == 'Number of Movies':\n",
    "            continue\n",
    "        else:\n",
    "            movie_numbers.append(content.split(',')[2])\n",
    "            actor.append(content.split(',')[0])\n",
    "\n",
    "\n",
    "with open('etapa-1.txt', 'w', encoding='utf-8') as etapa1:\n",
    "    etapa1.write(f'O ator/atriz com o maior número de filmes é {actor[movie_numbers.index(max(movie_numbers))]} com {movie_numbers[movie_numbers.index(max(movie_numbers))]} filmes')"
   ]
  },
  {
   "cell_type": "markdown",
   "metadata": {},
   "source": [
    "# Etapa 2"
   ]
  },
  {
   "cell_type": "code",
   "execution_count": 2,
   "metadata": {},
   "outputs": [
    {
     "name": "stdout",
     "output_type": "stream",
     "text": [
      "428.69\n"
     ]
    }
   ],
   "source": [
    "with open('actors.csv', 'r') as actors:\n",
    "    content = actors.readlines()\n",
    "\n",
    "    value_only = content[1:]\n",
    "\n",
    "    gross = [value.split(',')[-1] for value in value_only]\n",
    "\n",
    "    average_gross = sum(float(value) for value in gross) / len(gross)\n",
    "\n",
    "    total_gross = sum(float(value) for value in gross)\n",
    "\n",
    "    print(total_gross/ 50)\n",
    "    \n",
    "with open('etapa-2.txt', 'w', encoding='utf-8') as etapa2:\n",
    "    etapa2.write(f'Apresente a média de receita de bilheteria bruta dos principais filmes é {average_gross}')"
   ]
  },
  {
   "cell_type": "markdown",
   "metadata": {},
   "source": [
    "# Etapa 3"
   ]
  },
  {
   "cell_type": "code",
   "execution_count": 232,
   "metadata": {},
   "outputs": [],
   "source": [
    "with open('actors.csv', 'r') as actors:\n",
    "    content = actors.readlines()\n",
    "\n",
    "    value_only = content[1:]\n",
    "\n",
    "    average_movie = [float(value.split(',')[-3]) for value in value_only]\n",
    "\n",
    "    highest_average = max(average_movie)\n",
    "\n",
    "    actor_answer = [value.split(',')[0] for value in value_only][average_movie.index(highest_average)]\n",
    "\n",
    "    with open('etapa-3.txt', 'w',encoding='utf-8') as etapa3:\n",
    "        etapa3.write(f'o ator/atriz com a maior média de receita de bilheteria bruta por filme é {actor_answer}')"
   ]
  },
  {
   "cell_type": "markdown",
   "metadata": {},
   "source": [
    "# Etapa 4"
   ]
  },
  {
   "cell_type": "code",
   "execution_count": 14,
   "metadata": {},
   "outputs": [],
   "source": [
    "with open('actors.csv', 'r') as actors:\n",
    "    content = actors.readlines()\n",
    "\n",
    "value_only = content[1:]\n",
    "\n",
    "maior_bilheteria = [value.split(',')[-2] for value in value_only]\n",
    "\n",
    "vezes_que_apareceu = []\n",
    "\n",
    "for i in maior_bilheteria:\n",
    "    contador = 0\n",
    "    for j in maior_bilheteria:\n",
    "        if i == j:\n",
    "            contador += 1\n",
    "    vezes_que_apareceu.append(str(contador) + ',' + i)\n",
    "\n",
    "set_filmes = set(vezes_que_apareceu)\n",
    "\n",
    "with open('etapa-4.txt', 'w', encoding='utf-8') as etapa4:\n",
    "    index = 1\n",
    "    for content in sorted(set_filmes, reverse=True):\n",
    "        etapa4.write(f'{index} O filme {content.split(',')[1]} aparece {content.split(',')[0]} vez(es) no dataset\\n')\n",
    "        index += 1"
   ]
  },
  {
   "cell_type": "markdown",
   "metadata": {},
   "source": [
    "# Etapa 5"
   ]
  },
  {
   "cell_type": "code",
   "execution_count": 233,
   "metadata": {},
   "outputs": [],
   "source": [
    "with open('actors.csv', 'r') as actors:\n",
    "    content = actors.readlines()\n",
    "\n",
    "value_only = content[1:]\n",
    "\n",
    "total_gross = []\n",
    "\n",
    "for i in value_only:\n",
    "    if i.split(',')[1] == ' Jr.\"':\n",
    "        total_gross.append(i.split(',')[2] + ', ' + i.split(',')[0] + i.split(',')[1])\n",
    "    else:\n",
    "        total_gross.append(i.split(',')[1] + ', ' + i.split(',')[0])\n",
    "\n",
    "with open('etapa-5.txt', 'w', encoding='utf-8') as etapa5:\n",
    "    for content in total_gross:\n",
    "        etapa5.write(f'{content.split(',')[1]} -  {content.split(',')[0]}\\n')\n"
   ]
  }
 ],
 "metadata": {
  "kernelspec": {
   "display_name": "Python 3",
   "language": "python",
   "name": "python3"
  },
  "language_info": {
   "codemirror_mode": {
    "name": "ipython",
    "version": 3
   },
   "file_extension": ".py",
   "mimetype": "text/x-python",
   "name": "python",
   "nbconvert_exporter": "python",
   "pygments_lexer": "ipython3",
   "version": "3.12.1"
  }
 },
 "nbformat": 4,
 "nbformat_minor": 2
}
