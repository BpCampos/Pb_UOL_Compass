{
 "cells": [
  {
   "cell_type": "code",
   "execution_count": 46,
   "id": "987e59ea-e741-4185-ab63-55230b1de289",
   "metadata": {},
   "outputs": [],
   "source": [
    "import findspark\n",
    "findspark.init()"
   ]
  },
  {
   "cell_type": "code",
   "execution_count": 47,
   "id": "bd5139ed-3af7-4a4f-9f48-c6d35523cf97",
   "metadata": {},
   "outputs": [],
   "source": [
    "from pyspark.sql import SparkSession\n",
    "from pyspark.sql.functions import *\n",
    "from pyspark import SparkContext, SQLContext\n",
    "from random import randint"
   ]
  },
  {
   "cell_type": "code",
   "execution_count": 48,
   "id": "ebdb6067-80a7-4ac2-962f-19b12fabb3eb",
   "metadata": {},
   "outputs": [],
   "source": [
    "spark = SparkSession \\\n",
    "                .builder \\\n",
    "                .master(\"local[*]\")\\\n",
    "                .appName(\"Exercicio Intro\") \\\n",
    "                .getOrCreate()"
   ]
  },
  {
   "cell_type": "code",
   "execution_count": 50,
   "id": "0ad4cf6d-c2ea-4f98-b5eb-327d7194808f",
   "metadata": {},
   "outputs": [],
   "source": [
    "df_nomes = spark.read.text('/mnt/c/Users/Pichau/Documents/Cursos-Online/trainee-repo-template/Sprint 8/exercicios/tarefa_3/nomes_aleatorios.txt')\n",
    "df_nomes.show(5)"
   ]
  },
  {
   "cell_type": "code",
   "execution_count": 52,
   "id": "10b6fb2d-4d45-4e53-8347-9bcba192cc1f",
   "metadata": {},
   "outputs": [
    {
     "name": "stdout",
     "output_type": "stream",
     "text": [
      "root\n",
      " |-- value: string (nullable = true)\n",
      "\n"
     ]
    }
   ],
   "source": [
    "df_nomes.printSchema()"
   ]
  },
  {
   "cell_type": "code",
   "execution_count": 53,
   "id": "4095f13a-a93a-4aa7-90ea-bffb076ab84a",
   "metadata": {},
   "outputs": [],
   "source": [
    "df_nomes2 = df_nomes.withColumnRenamed('value', 'Nomes')"
   ]
  },
  {
   "cell_type": "code",
   "execution_count": 54,
   "id": "27bde560-4bac-4fa8-8896-80c0943d3207",
   "metadata": {},
   "outputs": [
    {
     "name": "stdout",
     "output_type": "stream",
     "text": [
      "root\n",
      " |-- Nomes: string (nullable = true)\n",
      "\n"
     ]
    }
   ],
   "source": [
    "df_nomes2.printSchema()"
   ]
  },
  {
   "cell_type": "code",
   "execution_count": 55,
   "id": "b8846095-2f8a-4466-8328-fea712b63e2b",
   "metadata": {},
   "outputs": [
    {
     "name": "stdout",
     "output_type": "stream",
     "text": [
      "+-----------------+\n",
      "|            Nomes|\n",
      "+-----------------+\n",
      "|   Frances Bennet|\n",
      "|    Jamie Russell|\n",
      "|   Edward Kistler|\n",
      "|    Sheila Maurer|\n",
      "| Donald Golightly|\n",
      "|       David Gray|\n",
      "|      Joy Bennett|\n",
      "|      Paul Kriese|\n",
      "|Berniece Ornellas|\n",
      "|    Brian Farrell|\n",
      "+-----------------+\n",
      "only showing top 10 rows\n",
      "\n"
     ]
    }
   ],
   "source": [
    "df_nomes2.show(10)"
   ]
  },
  {
   "cell_type": "code",
   "execution_count": 56,
   "id": "d9035e4e-de20-44f8-9b4e-87791a4ef3bd",
   "metadata": {},
   "outputs": [],
   "source": [
    "df_nomes = df_nomes2.withColumn('Escolaridade', expr(\"array('Fundamental', 'Medio', 'Superior')[int(rand()*3)]\"))"
   ]
  },
  {
   "cell_type": "code",
   "execution_count": 57,
   "id": "fd6e83b8-131f-442c-9117-e136bd16a22c",
   "metadata": {},
   "outputs": [
    {
     "name": "stdout",
     "output_type": "stream",
     "text": [
      "+-----------------+------------+\n",
      "|            Nomes|Escolaridade|\n",
      "+-----------------+------------+\n",
      "|   Frances Bennet| Fundamental|\n",
      "|    Jamie Russell|    Superior|\n",
      "|   Edward Kistler|    Superior|\n",
      "|    Sheila Maurer| Fundamental|\n",
      "| Donald Golightly| Fundamental|\n",
      "|       David Gray|    Superior|\n",
      "|      Joy Bennett|       Medio|\n",
      "|      Paul Kriese|       Medio|\n",
      "|Berniece Ornellas| Fundamental|\n",
      "|    Brian Farrell|    Superior|\n",
      "|   Kara Mcelwaine|       Medio|\n",
      "|    Tracy Herring|    Superior|\n",
      "|  Howard Lazarine| Fundamental|\n",
      "|     Leroy Strahl|    Superior|\n",
      "|     Ernest Hulet| Fundamental|\n",
      "|     David Medina|    Superior|\n",
      "|   Lorenzo Woodis| Fundamental|\n",
      "|      Page Marthe| Fundamental|\n",
      "|   Herbert Morris| Fundamental|\n",
      "|      Albert Leef|       Medio|\n",
      "+-----------------+------------+\n",
      "only showing top 20 rows\n",
      "\n"
     ]
    }
   ],
   "source": [
    "df_nomes.show()"
   ]
  },
  {
   "cell_type": "code",
   "execution_count": 58,
   "id": "14d07fca-80cd-432b-b3cb-1f54bf532a9d",
   "metadata": {},
   "outputs": [],
   "source": [
    "df_nomes = df_nomes.withColumn('Pais', expr(\"array('Argentina', 'Bolívia', 'Brasil', 'Chile', 'Colômbia', 'Equador', 'Guiana', 'Paraguai', 'Peru', 'Suriname', 'Uruguai', 'Venezuela')[int(rand()*12)]\"))"
   ]
  },
  {
   "cell_type": "code",
   "execution_count": 59,
   "id": "9f74c6b9-0585-4206-8751-cf4a7b724695",
   "metadata": {},
   "outputs": [
    {
     "name": "stdout",
     "output_type": "stream",
     "text": [
      "+-----------------+------------+---------+\n",
      "|            Nomes|Escolaridade|     Pais|\n",
      "+-----------------+------------+---------+\n",
      "|   Frances Bennet| Fundamental|   Brasil|\n",
      "|    Jamie Russell|    Superior|  Uruguai|\n",
      "|   Edward Kistler|    Superior| Colômbia|\n",
      "|    Sheila Maurer| Fundamental| Paraguai|\n",
      "| Donald Golightly| Fundamental| Paraguai|\n",
      "|       David Gray|    Superior|  Uruguai|\n",
      "|      Joy Bennett|       Medio| Colômbia|\n",
      "|      Paul Kriese|       Medio|  Equador|\n",
      "|Berniece Ornellas| Fundamental|Venezuela|\n",
      "|    Brian Farrell|    Superior|   Brasil|\n",
      "|   Kara Mcelwaine|       Medio| Paraguai|\n",
      "|    Tracy Herring|    Superior|  Bolívia|\n",
      "|  Howard Lazarine| Fundamental| Suriname|\n",
      "|     Leroy Strahl|    Superior| Colômbia|\n",
      "|     Ernest Hulet| Fundamental|   Brasil|\n",
      "|     David Medina|    Superior| Suriname|\n",
      "|   Lorenzo Woodis| Fundamental|Argentina|\n",
      "|      Page Marthe| Fundamental|   Guiana|\n",
      "|   Herbert Morris| Fundamental|Argentina|\n",
      "|      Albert Leef|       Medio|   Guiana|\n",
      "|     Charles Hill|       Medio|  Bolívia|\n",
      "|  Helen Blackwell|       Medio|   Brasil|\n",
      "|          Lois Ly|       Medio|Venezuela|\n",
      "|     Rebecca Snow| Fundamental|   Guiana|\n",
      "|      Frank Wiley| Fundamental|     Peru|\n",
      "| Wallace Mitchell| Fundamental|Venezuela|\n",
      "|   Amanda Gravitt|       Medio| Colômbia|\n",
      "|   Gabriel Colyer|       Medio| Colômbia|\n",
      "|         Mary Lee| Fundamental|  Bolívia|\n",
      "|       Daryl Page|    Superior|    Chile|\n",
      "+-----------------+------------+---------+\n",
      "only showing top 30 rows\n",
      "\n"
     ]
    }
   ],
   "source": [
    "df_nomes.show(30)"
   ]
  },
  {
   "cell_type": "code",
   "execution_count": 60,
   "id": "73912ef5-0e77-4f6e-9b71-71b32446fa20",
   "metadata": {},
   "outputs": [],
   "source": [
    "df_nomes = df_nomes.withColumn(\"AnoNascimento\", floor(rand() * (65) + 1945))"
   ]
  },
  {
   "cell_type": "code",
   "execution_count": 61,
   "id": "f6501f83-bc9d-463f-a945-c25879907364",
   "metadata": {},
   "outputs": [
    {
     "name": "stdout",
     "output_type": "stream",
     "text": [
      "+-----------------+------------+---------+-------------+\n",
      "|            Nomes|Escolaridade|     Pais|AnoNascimento|\n",
      "+-----------------+------------+---------+-------------+\n",
      "|   Frances Bennet| Fundamental|   Brasil|         1990|\n",
      "|    Jamie Russell|    Superior|  Uruguai|         2007|\n",
      "|   Edward Kistler|    Superior| Colômbia|         1991|\n",
      "|    Sheila Maurer| Fundamental| Paraguai|         1948|\n",
      "| Donald Golightly| Fundamental| Paraguai|         1979|\n",
      "|       David Gray|    Superior|  Uruguai|         1954|\n",
      "|      Joy Bennett|       Medio| Colômbia|         1987|\n",
      "|      Paul Kriese|       Medio|  Equador|         1974|\n",
      "|Berniece Ornellas| Fundamental|Venezuela|         1959|\n",
      "|    Brian Farrell|    Superior|   Brasil|         2007|\n",
      "|   Kara Mcelwaine|       Medio| Paraguai|         1960|\n",
      "|    Tracy Herring|    Superior|  Bolívia|         1971|\n",
      "|  Howard Lazarine| Fundamental| Suriname|         1986|\n",
      "|     Leroy Strahl|    Superior| Colômbia|         1974|\n",
      "|     Ernest Hulet| Fundamental|   Brasil|         1972|\n",
      "|     David Medina|    Superior| Suriname|         1982|\n",
      "|   Lorenzo Woodis| Fundamental|Argentina|         1957|\n",
      "|      Page Marthe| Fundamental|   Guiana|         1997|\n",
      "|   Herbert Morris| Fundamental|Argentina|         1984|\n",
      "|      Albert Leef|       Medio|   Guiana|         1969|\n",
      "+-----------------+------------+---------+-------------+\n",
      "only showing top 20 rows\n",
      "\n"
     ]
    }
   ],
   "source": [
    "df_nomes.show()"
   ]
  },
  {
   "cell_type": "code",
   "execution_count": 62,
   "id": "7f55a654-bfcd-4f0e-a009-6757ba0c1c8f",
   "metadata": {},
   "outputs": [],
   "source": [
    "df_select = df_nomes.select('Nomes', 'AnoNascimento').filter((df_nomes.AnoNascimento > 2001)&(df_nomes.AnoNascimento < 2100))"
   ]
  },
  {
   "cell_type": "code",
   "execution_count": 63,
   "id": "8c8e8231-fbdf-4ea5-87b7-3c11194fca3b",
   "metadata": {},
   "outputs": [
    {
     "name": "stdout",
     "output_type": "stream",
     "text": [
      "+--------------------+-------------+\n",
      "|               Nomes|AnoNascimento|\n",
      "+--------------------+-------------+\n",
      "|       Jamie Russell|         2007|\n",
      "|       Brian Farrell|         2007|\n",
      "|          Daryl Page|         2002|\n",
      "|      Wilfredo Grant|         2004|\n",
      "|     Jerry Chynoweth|         2002|\n",
      "|         Lisa Baxley|         2005|\n",
      "|        James Barton|         2004|\n",
      "|Christopher Williams|         2007|\n",
      "|     Suzanne Bullard|         2005|\n",
      "|      Robert Andrews|         2004|\n",
      "+--------------------+-------------+\n",
      "only showing top 10 rows\n",
      "\n"
     ]
    }
   ],
   "source": [
    "df_select.show(10)"
   ]
  },
  {
   "cell_type": "code",
   "execution_count": 64,
   "id": "cf9cbd35-94c9-4900-9f2e-ff3a3657a266",
   "metadata": {},
   "outputs": [
    {
     "name": "stdout",
     "output_type": "stream",
     "text": [
      "+-----------------+------------+---------+-------------+\n",
      "|            Nomes|Escolaridade|     Pais|AnoNascimento|\n",
      "+-----------------+------------+---------+-------------+\n",
      "|   Frances Bennet| Fundamental|   Brasil|         1990|\n",
      "|    Jamie Russell|    Superior|  Uruguai|         2007|\n",
      "|   Edward Kistler|    Superior| Colômbia|         1991|\n",
      "|    Sheila Maurer| Fundamental| Paraguai|         1948|\n",
      "| Donald Golightly| Fundamental| Paraguai|         1979|\n",
      "|       David Gray|    Superior|  Uruguai|         1954|\n",
      "|      Joy Bennett|       Medio| Colômbia|         1987|\n",
      "|      Paul Kriese|       Medio|  Equador|         1974|\n",
      "|Berniece Ornellas| Fundamental|Venezuela|         1959|\n",
      "|    Brian Farrell|    Superior|   Brasil|         2007|\n",
      "|   Kara Mcelwaine|       Medio| Paraguai|         1960|\n",
      "|    Tracy Herring|    Superior|  Bolívia|         1971|\n",
      "|  Howard Lazarine| Fundamental| Suriname|         1986|\n",
      "|     Leroy Strahl|    Superior| Colômbia|         1974|\n",
      "|     Ernest Hulet| Fundamental|   Brasil|         1972|\n",
      "|     David Medina|    Superior| Suriname|         1982|\n",
      "|   Lorenzo Woodis| Fundamental|Argentina|         1957|\n",
      "|      Page Marthe| Fundamental|   Guiana|         1997|\n",
      "|   Herbert Morris| Fundamental|Argentina|         1984|\n",
      "|      Albert Leef|       Medio|   Guiana|         1969|\n",
      "+-----------------+------------+---------+-------------+\n",
      "only showing top 20 rows\n",
      "\n"
     ]
    }
   ],
   "source": [
    "df_nomes.createOrReplaceTempView(\"pessoas\")\n",
    "spark.sql(\"select * from pessoas\").show()"
   ]
  },
  {
   "cell_type": "code",
   "execution_count": 74,
   "id": "b410365e-0cc1-4693-a619-d00efcdff30f",
   "metadata": {},
   "outputs": [],
   "source": [
    "millennials = df_nomes.groupBy('AnoNascimento').agg(count('Nomes')).where((col('AnoNascimento') >= 1980) & (col('AnoNascimento') <= 1994)).sort(desc('count(Nomes)'))"
   ]
  },
  {
   "cell_type": "code",
   "execution_count": 75,
   "id": "411e82b9-9629-4041-bd78-856e7cbf464c",
   "metadata": {},
   "outputs": [
    {
     "name": "stdout",
     "output_type": "stream",
     "text": [
      "+-------------+------------+\n",
      "|AnoNascimento|count(Nomes)|\n",
      "+-------------+------------+\n",
      "|         1991|      154699|\n",
      "|         1987|      154154|\n",
      "|         1990|      154022|\n",
      "|         1983|      153966|\n",
      "|         1984|      153965|\n",
      "|         1993|      153933|\n",
      "|         1994|      153922|\n",
      "|         1988|      153868|\n",
      "|         1989|      153819|\n",
      "|         1992|      153775|\n",
      "|         1980|      153756|\n",
      "|         1982|      153493|\n",
      "|         1986|      153232|\n",
      "|         1981|      153144|\n",
      "|         1985|      152803|\n",
      "+-------------+------------+\n",
      "\n"
     ]
    }
   ],
   "source": [
    "millennials.show()"
   ]
  },
  {
   "cell_type": "code",
   "execution_count": 89,
   "id": "a2d92f36-18b4-48b4-98fa-e926d45e171c",
   "metadata": {},
   "outputs": [],
   "source": [
    "milleninals_sql = spark.sql(\"select AnoNascimento, count(Nomes) as conta_nomes from pessoas group by AnoNascimento having AnoNascimento >= 1980 and AnoNascimento <= 1994 order by conta_nomes desc\")"
   ]
  },
  {
   "cell_type": "code",
   "execution_count": 90,
   "id": "0f2432db-1ba0-4d37-b9d8-00d4b175a153",
   "metadata": {},
   "outputs": [
    {
     "name": "stdout",
     "output_type": "stream",
     "text": [
      "+-------------+-----------+\n",
      "|AnoNascimento|conta_nomes|\n",
      "+-------------+-----------+\n",
      "|         1991|     154699|\n",
      "|         1987|     154154|\n",
      "|         1990|     154022|\n",
      "|         1983|     153966|\n",
      "|         1984|     153965|\n",
      "|         1993|     153933|\n",
      "|         1994|     153922|\n",
      "|         1988|     153868|\n",
      "|         1989|     153819|\n",
      "|         1992|     153775|\n",
      "|         1980|     153756|\n",
      "|         1982|     153493|\n",
      "|         1986|     153232|\n",
      "|         1981|     153144|\n",
      "|         1985|     152803|\n",
      "+-------------+-----------+\n",
      "\n"
     ]
    }
   ],
   "source": [
    "milleninals_sql.show()"
   ]
  },
  {
   "cell_type": "code",
   "execution_count": 144,
   "id": "4b69d681-0f9c-4f9f-b016-ecbb8ebf4035",
   "metadata": {},
   "outputs": [],
   "source": [
    "df_geracoes = spark.sql(\"select Pais, case \\\n",
    "when AnoNascimento >= 1944 and AnoNascimento <= 1964 then 'Baby Boomers'\\\n",
    "when AnoNascimento >= 1965 and AnoNascimento <= 1979 then 'Geração X' \\\n",
    "when AnoNascimento >= 1980 and AnoNascimento <= 1994 then 'Millennials'\\\n",
    "when AnoNascimento >= 1995 and AnoNascimento <= 2015 then 'Geração Z' end as Geracao, count(Nomes) as Quantidade from pessoas group by Pais, Geracao order by Pais, Geracao, Quantidade\")"
   ]
  },
  {
   "cell_type": "code",
   "execution_count": 145,
   "id": "55242cda-551b-47bf-ae30-803f0c28bc79",
   "metadata": {},
   "outputs": [
    {
     "name": "stdout",
     "output_type": "stream",
     "text": [
      "+---------+------------+----------+\n",
      "|     Pais|     Geracao|Quantidade|\n",
      "+---------+------------+----------+\n",
      "|Argentina|Baby Boomers|    257000|\n",
      "|Argentina|   Geração X|    191841|\n",
      "|Argentina|   Geração Z|    192287|\n",
      "|Argentina| Millennials|    192762|\n",
      "|  Bolívia|Baby Boomers|    255747|\n",
      "|  Bolívia|   Geração X|    191903|\n",
      "|  Bolívia|   Geração Z|    192263|\n",
      "|  Bolívia| Millennials|    191514|\n",
      "|   Brasil|Baby Boomers|    256137|\n",
      "|   Brasil|   Geração X|    192619|\n",
      "|   Brasil|   Geração Z|    192685|\n",
      "|   Brasil| Millennials|    191307|\n",
      "|    Chile|Baby Boomers|    256581|\n",
      "|    Chile|   Geração X|    192611|\n",
      "|    Chile|   Geração Z|    192251|\n",
      "|    Chile| Millennials|    192179|\n",
      "| Colômbia|Baby Boomers|    256419|\n",
      "| Colômbia|   Geração X|    192558|\n",
      "| Colômbia|   Geração Z|    193193|\n",
      "| Colômbia| Millennials|    191963|\n",
      "|  Equador|Baby Boomers|    256989|\n",
      "|  Equador|   Geração X|    193025|\n",
      "|  Equador|   Geração Z|    192859|\n",
      "|  Equador| Millennials|    192316|\n",
      "|   Guiana|Baby Boomers|    256454|\n",
      "|   Guiana|   Geração X|    192273|\n",
      "|   Guiana|   Geração Z|    192559|\n",
      "|   Guiana| Millennials|    192406|\n",
      "| Paraguai|Baby Boomers|    256744|\n",
      "| Paraguai|   Geração X|    192413|\n",
      "| Paraguai|   Geração Z|    191631|\n",
      "| Paraguai| Millennials|    192691|\n",
      "|     Peru|Baby Boomers|    256480|\n",
      "|     Peru|   Geração X|    192052|\n",
      "|     Peru|   Geração Z|    191505|\n",
      "|     Peru| Millennials|    192409|\n",
      "| Suriname|Baby Boomers|    255246|\n",
      "| Suriname|   Geração X|    192821|\n",
      "| Suriname|   Geração Z|    192201|\n",
      "| Suriname| Millennials|    191456|\n",
      "|  Uruguai|Baby Boomers|    256371|\n",
      "|  Uruguai|   Geração X|    192576|\n",
      "|  Uruguai|   Geração Z|    192576|\n",
      "|  Uruguai| Millennials|    192574|\n",
      "|Venezuela|Baby Boomers|    255762|\n",
      "|Venezuela|   Geração X|    192327|\n",
      "|Venezuela|   Geração Z|    192490|\n",
      "|Venezuela| Millennials|    192974|\n",
      "+---------+------------+----------+\n",
      "\n"
     ]
    }
   ],
   "source": [
    "df_geracoes.show(50)"
   ]
  },
  {
   "cell_type": "code",
   "execution_count": null,
   "id": "4c442f48-fc2f-4bed-8bbf-9d061585c692",
   "metadata": {},
   "outputs": [],
   "source": []
  }
 ],
 "metadata": {
  "kernelspec": {
   "display_name": "Python 3 (ipykernel)",
   "language": "python",
   "name": "python3"
  },
  "language_info": {
   "codemirror_mode": {
    "name": "ipython",
    "version": 3
   },
   "file_extension": ".py",
   "mimetype": "text/x-python",
   "name": "python",
   "nbconvert_exporter": "python",
   "pygments_lexer": "ipython3",
   "version": "3.10.12"
  }
 },
 "nbformat": 4,
 "nbformat_minor": 5
}
