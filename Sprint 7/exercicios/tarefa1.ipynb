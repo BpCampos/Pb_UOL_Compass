{
 "cells": [
  {
   "cell_type": "code",
   "execution_count": 4,
   "metadata": {},
   "outputs": [],
   "source": [
    "import pandas as pd"
   ]
  },
  {
   "cell_type": "code",
   "execution_count": 6,
   "metadata": {},
   "outputs": [],
   "source": [
    "atores = pd.read_csv('./actors.csv')"
   ]
  },
  {
   "cell_type": "markdown",
   "metadata": {},
   "source": [
    "# Questão 1"
   ]
  },
  {
   "cell_type": "code",
   "execution_count": 7,
   "metadata": {},
   "outputs": [
    {
     "name": "stdout",
     "output_type": "stream",
     "text": [
      "Actor                   Robert DeNiro\n",
      "Total Gross                    3081.3\n",
      "Number of Movies                   79\n",
      "Average per Movie                39.0\n",
      "#1 Movie             Meet the Fockers\n",
      "Gross                           279.3\n",
      "Name: 19, dtype: object\n"
     ]
    }
   ],
   "source": [
    "print(atores.loc[atores['Number of Movies'].idxmax()])"
   ]
  },
  {
   "cell_type": "markdown",
   "metadata": {},
   "source": [
    "# Questão 2"
   ]
  },
  {
   "cell_type": "code",
   "execution_count": 8,
   "metadata": {},
   "outputs": [
    {
     "name": "stdout",
     "output_type": "stream",
     "text": [
      "A média da coluna número de filmes é 37.88\n"
     ]
    }
   ],
   "source": [
    "print(f\"A média da coluna número de filmes é {atores['Number of Movies'].mean()}\")"
   ]
  },
  {
   "cell_type": "markdown",
   "metadata": {},
   "source": [
    "# Questão 3"
   ]
  },
  {
   "cell_type": "code",
   "execution_count": 9,
   "metadata": {},
   "outputs": [
    {
     "name": "stdout",
     "output_type": "stream",
     "text": [
      "O ator/atriz com maior média é Anthony Daniels com média de 451.8\n"
     ]
    }
   ],
   "source": [
    "average = atores['Average per Movie'].idxmax()\n",
    "ator = atores.loc[average, 'Actor']\n",
    "maior_media = atores.loc[average, 'Average per Movie']\n",
    "print(f\"O ator/atriz com maior média é {ator} com média de {maior_media}\")"
   ]
  },
  {
   "cell_type": "markdown",
   "metadata": {},
   "source": [
    "# Questão 4"
   ]
  },
  {
   "cell_type": "code",
   "execution_count": 10,
   "metadata": {},
   "outputs": [
    {
     "name": "stdout",
     "output_type": "stream",
     "text": [
      "O filme mais frequente é The Avengers com uma frequência de 6\n"
     ]
    }
   ],
   "source": [
    "filmes_frequentes = atores.pivot_table(index = ['#1 Movie'], aggfunc = 'size')\n",
    "frequencia = atores.pivot_table(index = ['#1 Movie'], aggfunc = 'size').reset_index(name = 'Count')\n",
    "\n",
    "print(f\"O filme mais frequente é {filmes_frequentes.idxmax()} com uma frequência de {frequencia['Count'].max()}\")\n"
   ]
  },
  {
   "cell_type": "code",
   "execution_count": null,
   "metadata": {},
   "outputs": [],
   "source": []
  }
 ],
 "metadata": {
  "kernelspec": {
   "display_name": "Python 3",
   "language": "python",
   "name": "python3"
  },
  "language_info": {
   "codemirror_mode": {
    "name": "ipython",
    "version": 3
   },
   "file_extension": ".py",
   "mimetype": "text/x-python",
   "name": "python",
   "nbconvert_exporter": "python",
   "pygments_lexer": "ipython3",
   "version": "3.12.2"
  }
 },
 "nbformat": 4,
 "nbformat_minor": 2
}
